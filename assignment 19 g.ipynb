{
 "cells": [
  {
   "cell_type": "code",
   "execution_count": 1,
   "id": "1b014a8f-f3e7-459a-9c65-e23fe826c47c",
   "metadata": {},
   "outputs": [],
   "source": [
    "import numpy as np\n",
    "from numpy import random\n",
    "import pandas as pd"
   ]
  },
  {
   "cell_type": "code",
   "execution_count": 2,
   "id": "3f127de3-5638-4324-9eef-b659eebd8da0",
   "metadata": {},
   "outputs": [
    {
     "data": {
      "text/html": [
       "<div>\n",
       "<style scoped>\n",
       "    .dataframe tbody tr th:only-of-type {\n",
       "        vertical-align: middle;\n",
       "    }\n",
       "\n",
       "    .dataframe tbody tr th {\n",
       "        vertical-align: top;\n",
       "    }\n",
       "\n",
       "    .dataframe thead th {\n",
       "        text-align: right;\n",
       "    }\n",
       "</style>\n",
       "<table border=\"1\" class=\"dataframe\">\n",
       "  <thead>\n",
       "    <tr style=\"text-align: right;\">\n",
       "      <th></th>\n",
       "      <th>time_spent</th>\n",
       "      <th>final_score</th>\n",
       "    </tr>\n",
       "  </thead>\n",
       "  <tbody>\n",
       "    <tr>\n",
       "      <th>time_spent</th>\n",
       "      <td>1.000000</td>\n",
       "      <td>0.972337</td>\n",
       "    </tr>\n",
       "    <tr>\n",
       "      <th>final_score</th>\n",
       "      <td>0.972337</td>\n",
       "      <td>1.000000</td>\n",
       "    </tr>\n",
       "  </tbody>\n",
       "</table>\n",
       "</div>"
      ],
      "text/plain": [
       "             time_spent  final_score\n",
       "time_spent     1.000000     0.972337\n",
       "final_score    0.972337     1.000000"
      ]
     },
     "execution_count": 2,
     "metadata": {},
     "output_type": "execute_result"
    }
   ],
   "source": [
    "'''Q1'''\n",
    "data = {\n",
    "    \"time_spent\": [3,4,5,4,7,9,4],\n",
    "    \"final_score\": [45,57,73,59,83,97,51]\n",
    "}\n",
    "\n",
    "df = pd.DataFrame(data)\n",
    "df.corr(method=\"pearson\")"
   ]
  },
  {
   "cell_type": "code",
   "execution_count": 3,
   "id": "00b21f98-83ee-486a-b348-f70d76826580",
   "metadata": {},
   "outputs": [
    {
     "data": {
      "text/html": [
       "<div>\n",
       "<style scoped>\n",
       "    .dataframe tbody tr th:only-of-type {\n",
       "        vertical-align: middle;\n",
       "    }\n",
       "\n",
       "    .dataframe tbody tr th {\n",
       "        vertical-align: top;\n",
       "    }\n",
       "\n",
       "    .dataframe thead th {\n",
       "        text-align: right;\n",
       "    }\n",
       "</style>\n",
       "<table border=\"1\" class=\"dataframe\">\n",
       "  <thead>\n",
       "    <tr style=\"text-align: right;\">\n",
       "      <th></th>\n",
       "      <th>sleep</th>\n",
       "      <th>rating</th>\n",
       "    </tr>\n",
       "  </thead>\n",
       "  <tbody>\n",
       "    <tr>\n",
       "      <th>sleep</th>\n",
       "      <td>1.000000</td>\n",
       "      <td>0.314414</td>\n",
       "    </tr>\n",
       "    <tr>\n",
       "      <th>rating</th>\n",
       "      <td>0.314414</td>\n",
       "      <td>1.000000</td>\n",
       "    </tr>\n",
       "  </tbody>\n",
       "</table>\n",
       "</div>"
      ],
      "text/plain": [
       "           sleep    rating\n",
       "sleep   1.000000  0.314414\n",
       "rating  0.314414  1.000000"
      ]
     },
     "execution_count": 3,
     "metadata": {},
     "output_type": "execute_result"
    }
   ],
   "source": [
    "'''Q2'''\n",
    "data1 = {\n",
    "    \"sleep\": [5,4,5,4,7,9,4],\n",
    "    \"rating\": [4,6,7,2,5,5,4]\n",
    "}\n",
    "\n",
    "df = pd.DataFrame(data1)\n",
    "df.corr(method=\"spearman\")"
   ]
  },
  {
   "cell_type": "code",
   "execution_count": 4,
   "id": "06e1c68f-98af-41ee-a5fc-7ec97aee90be",
   "metadata": {},
   "outputs": [
    {
     "name": "stdout",
     "output_type": "stream",
     "text": [
      "Pearson: \n",
      "           hours       BMI\n",
      "hours  1.000000 -0.036781\n",
      "BMI   -0.036781  1.000000\n",
      "\n",
      "Spearman: \n",
      "          hours      BMI\n",
      "hours  1.00000 -0.01084\n",
      "BMI   -0.01084  1.00000\n"
     ]
    }
   ],
   "source": [
    "'''Q3'''\n",
    "random.seed(23)\n",
    "\n",
    "hours = np.random.randint(1,5,50,dtype=int)\n",
    "BMI= np.random.randint(40,60,50,dtype=int)\n",
    "\n",
    "df1 = pd.DataFrame({\n",
    "    \"hours\": hours,\n",
    "    \"BMI\": BMI\n",
    "})\n",
    "\n",
    "print(\"Pearson: \\n\",df1.corr(method=\"pearson\"))\n",
    "print(\"\\nSpearman: \\n\",df1.corr(method=\"spearman\"))"
   ]
  },
  {
   "cell_type": "code",
   "execution_count": 5,
   "id": "1bed8d4d-ac84-4b14-b3b3-c11a294e72ec",
   "metadata": {},
   "outputs": [
    {
     "name": "stdout",
     "output_type": "stream",
     "text": [
      "Pearson correlation coefficient: PearsonRResult(statistic=-0.8491163472340668, pvalue=6.627405306818926e-15)\n"
     ]
    }
   ],
   "source": [
    "'''Q4'''\n",
    "import pandas as pd\n",
    "from scipy.stats import pearsonr\n",
    "\n",
    "hours_tv = [1, 2, 3, 4, 5, 6, 2, 1, 3, 4, 6, 7, 8, 5, 6, 3, 4, 2, 1, 7, 6, 5, 4, 3, 2, 1, 7, 6, 5, 4, 3, 2, 1, 5, 6, 4, 3, 2, 1, 7, 6, 5, 4, 3, 2, 1, 6, 5, 4, 3]\n",
    "physical_activity = [30, 45, 20, 60, 10, 5, 50, 60, 40, 20, 15, 10, 5, 30, 20, 40, 60, 50, 55, 15, 20, 30, 40, 50, 60, 55, 10, 20, 30, 40, 50, 60, 55, 20, 15, 40, 50, 60, 55, 15, 20, 30, 40, 50, 60, 55, 20, 30, 40, 50]\n",
    "\n",
    "# Creating a DataFrame\n",
    "data2 = {\n",
    "    \"hours_tv\": hours_tv,\n",
    "    \"physical_activity\": physical_activity\n",
    "}\n",
    "\n",
    "df = pd.DataFrame(data2)\n",
    "\n",
    "correlation = pearsonr(df[\"hours_tv\"], df[\"physical_activity\"])\n",
    "\n",
    "print(\"Pearson correlation coefficient:\", correlation)\n"
   ]
  },
  {
   "cell_type": "code",
   "execution_count": 6,
   "id": "1f784db1-b25b-433f-913c-eb12872f941e",
   "metadata": {},
   "outputs": [
    {
     "data": {
      "text/html": [
       "<div>\n",
       "<style scoped>\n",
       "    .dataframe tbody tr th:only-of-type {\n",
       "        vertical-align: middle;\n",
       "    }\n",
       "\n",
       "    .dataframe tbody tr th {\n",
       "        vertical-align: top;\n",
       "    }\n",
       "\n",
       "    .dataframe thead th {\n",
       "        text-align: right;\n",
       "    }\n",
       "</style>\n",
       "<table border=\"1\" class=\"dataframe\">\n",
       "  <thead>\n",
       "    <tr style=\"text-align: right;\">\n",
       "      <th></th>\n",
       "      <th>age</th>\n",
       "      <th>encoded</th>\n",
       "    </tr>\n",
       "  </thead>\n",
       "  <tbody>\n",
       "    <tr>\n",
       "      <th>age</th>\n",
       "      <td>1.000000</td>\n",
       "      <td>-0.568649</td>\n",
       "    </tr>\n",
       "    <tr>\n",
       "      <th>encoded</th>\n",
       "      <td>-0.568649</td>\n",
       "      <td>1.000000</td>\n",
       "    </tr>\n",
       "  </tbody>\n",
       "</table>\n",
       "</div>"
      ],
      "text/plain": [
       "              age   encoded\n",
       "age      1.000000 -0.568649\n",
       "encoded -0.568649  1.000000"
      ]
     },
     "execution_count": 6,
     "metadata": {},
     "output_type": "execute_result"
    }
   ],
   "source": [
    "'''Q5'''\n",
    "from sklearn.preprocessing import LabelEncoder\n",
    "data3={\n",
    "    'age' : [25,42,37,19,31,28],\n",
    "    'brand' : [\"cock\",\"Papsi\",\"Dwe\",\"cock\",\"papsi\",\"cock\"]\n",
    "}\n",
    "df2 = pd.DataFrame(data3)\n",
    "encode = LabelEncoder()\n",
    "df2['encoded'] = encode.fit_transform(df2['brand'])\n",
    "df2  = df2.drop(columns =['brand'])\n",
    "df2.head()\n",
    "\n",
    "dd=df2.corr(method=\"pearson\")\n",
    "dd"
   ]
  },
  {
   "cell_type": "code",
   "execution_count": 7,
   "id": "51d1d238-0482-4d36-8942-eca5923a220d",
   "metadata": {},
   "outputs": [
    {
     "name": "stdout",
     "output_type": "stream",
     "text": [
      "Pearson correlation coefficient: 0.13549955926470184\n"
     ]
    }
   ],
   "source": [
    "'''Q6'''\n",
    "import pandas as pd\n",
    "from scipy.stats import pearsonr\n",
    "\n",
    "sales_calls_per_day = np.random.randint(18,30,30)\n",
    "sales_per_week = np.random.randint(10,15,30)\n",
    "\n",
    "# Creatin a DataFrame\n",
    "data4 = {\n",
    "    \"sales_calls_per_day\": sales_calls_per_day,\n",
    "    \"sales_per_week\": sales_per_week\n",
    "}\n",
    "\n",
    "df4 = pd.DataFrame(data4)\n",
    "\n",
    "correlation, _ = pearsonr(df4[\"sales_calls_per_day\"], df4[\"sales_per_week\"])\n",
    "\n",
    "print(\"Pearson correlation coefficient:\", correlation)\n"
   ]
  },
  {
   "cell_type": "code",
   "execution_count": null,
   "id": "5aa4d332-f959-4fdf-adec-292f541f366e",
   "metadata": {},
   "outputs": [],
   "source": []
  }
 ],
 "metadata": {
  "kernelspec": {
   "display_name": "Python 3 (ipykernel)",
   "language": "python",
   "name": "python3"
  },
  "language_info": {
   "codemirror_mode": {
    "name": "ipython",
    "version": 3
   },
   "file_extension": ".py",
   "mimetype": "text/x-python",
   "name": "python",
   "nbconvert_exporter": "python",
   "pygments_lexer": "ipython3",
   "version": "3.12.4"
  }
 },
 "nbformat": 4,
 "nbformat_minor": 5
}
